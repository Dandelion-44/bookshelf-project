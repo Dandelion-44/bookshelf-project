{
  "metadata": {
    "kernelspec": {
      "name": "python",
      "display_name": "Python (Pyodide)",
      "language": "python"
    },
    "language_info": {
      "codemirror_mode": {
        "name": "python",
        "version": 3
      },
      "file_extension": ".py",
      "mimetype": "text/x-python",
      "name": "python",
      "nbconvert_exporter": "python",
      "pygments_lexer": "ipython3",
      "version": "3.8"
    }
  },
  "nbformat_minor": 5,
  "nbformat": 4,
  "cells": [
    {
      "id": "c6eedf1e-08f2-4912-8bc4-a25118553af6",
      "cell_type": "code",
      "source": "bookshelf = [\"The Bell Jar\", \"The Lovely Bones\", \"If I Stay\"]\n\nfor book in bookshelf:\n    print(book)",
      "metadata": {
        "trusted": true
      },
      "outputs": [
        {
          "name": "stdout",
          "output_type": "stream",
          "text": "The Bell Jar\nThe Lovely Bones\nIf I Stay\n"
        }
      ],
      "execution_count": 7
    },
    {
      "id": "b6b602fd-26c5-40ef-a10b-86cd21724be2",
      "cell_type": "code",
      "source": "def add_book(title):\n    bookshelf.append(title)\n    print(f'\"{title}\" has been added to your bookshelf.')\n",
      "metadata": {
        "trusted": true
      },
      "outputs": [],
      "execution_count": 8
    },
    {
      "id": "bbb116d2-522a-408f-b6c1-0c5a79088c15",
      "cell_type": "code",
      "source": "add_book(\"Bullyville\")",
      "metadata": {
        "trusted": true
      },
      "outputs": [
        {
          "name": "stdout",
          "output_type": "stream",
          "text": "\"Bullyville\" has been added to your bookshelf.\n"
        }
      ],
      "execution_count": 9
    },
    {
      "id": "825c527b-978b-4fee-b158-eb64a59fc2bd",
      "cell_type": "code",
      "source": "def remove_book(title):\n    try:\n        bookshelf.remove(title)\n        print(f'\"{title}\" has been removed from your bookshelf.')\n    except ValueError:\n        print(f'Sorry, \"{title}\" is not in your bookshelf.')\n",
      "metadata": {
        "trusted": true
      },
      "outputs": [],
      "execution_count": 11
    },
    {
      "id": "f28cb0c2-477e-40ae-aeea-f193a0eaeaf3",
      "cell_type": "code",
      "source": "remove_book(\"If I Stay\")",
      "metadata": {
        "trusted": true
      },
      "outputs": [
        {
          "name": "stdout",
          "output_type": "stream",
          "text": "\"If I Stay\" has been removed from your bookshelf.\n"
        }
      ],
      "execution_count": 12
    },
    {
      "id": "d9cc6185-ca0a-4c58-8ba2-081c7e84893b",
      "cell_type": "code",
      "source": "print(bookshelf)",
      "metadata": {
        "trusted": true
      },
      "outputs": [
        {
          "name": "stdout",
          "output_type": "stream",
          "text": "['The Bell Jar', 'The Lovely Bones', 'Bullyville']\n"
        }
      ],
      "execution_count": 13
    },
    {
      "id": "0a246a3b-a976-4489-8f3e-ba82363a85c8",
      "cell_type": "code",
      "source": "add_book(\"If I Stay\")",
      "metadata": {
        "trusted": true
      },
      "outputs": [
        {
          "name": "stdout",
          "output_type": "stream",
          "text": "\"If I Stay\" has been added to your bookshelf.\n"
        }
      ],
      "execution_count": 15
    },
    {
      "id": "23f2db87-ef85-438e-b8a7-c8f234e8a066",
      "cell_type": "code",
      "source": "def display_bookshelf():\n    for i, book in enumerate(bookshelf, start=1):\n        print(f\"{i}. {book}\")\n",
      "metadata": {
        "trusted": true
      },
      "outputs": [],
      "execution_count": 18
    },
    {
      "id": "d6e4b1a7-0120-40cc-bb4d-a073600ad3fd",
      "cell_type": "code",
      "source": "display_bookshelf()",
      "metadata": {
        "trusted": true
      },
      "outputs": [
        {
          "name": "stdout",
          "output_type": "stream",
          "text": "1. The Bell Jar\n2. The Lovely Bones\n3. Bullyville\n4. If I Stay\n"
        }
      ],
      "execution_count": 19
    },
    {
      "id": "64aebcb0-42aa-44b0-b6df-8f1204761860",
      "cell_type": "code",
      "source": "def search_bookshelf(keyword):\n    found = False\n    for book in bookshelf:\n        if keyword.lower() in book.lower():\n            print(book)\n            found = True\n    if not found:\n        print(f'No books found containing \"{keyword}\".')",
      "metadata": {
        "trusted": true
      },
      "outputs": [],
      "execution_count": 22
    },
    {
      "id": "73aacc37-5e93-4de4-8ac9-40323c853780",
      "cell_type": "code",
      "source": "search_bookshelf(\"the\")",
      "metadata": {
        "trusted": true
      },
      "outputs": [
        {
          "name": "stdout",
          "output_type": "stream",
          "text": "The Bell Jar\nThe Lovely Bones\n"
        }
      ],
      "execution_count": 23
    },
    {
      "id": "d7ffdcec-b122-4c93-bdee-4111b5483637",
      "cell_type": "code",
      "source": "add_book(\"Mockingjay\")",
      "metadata": {
        "trusted": true
      },
      "outputs": [
        {
          "name": "stdout",
          "output_type": "stream",
          "text": "\"Mockingjay\" has been added to your bookshelf.\n"
        }
      ],
      "execution_count": 25
    },
    {
      "id": "30bf1dab-7acb-44a3-a282-03eadfb87078",
      "cell_type": "code",
      "source": "",
      "metadata": {
        "trusted": true
      },
      "outputs": [],
      "execution_count": null
    }
  ]
}